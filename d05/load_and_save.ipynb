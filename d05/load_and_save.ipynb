{
 "cells": [
  {
   "cell_type": "code",
   "execution_count": 62,
   "metadata": {},
   "outputs": [],
   "source": [
    "import pandas as pd\n",
    "from pandas.compat import StringIO\n",
    "\n",
    "f = open(\"feed-views.log\", \"r\")\n",
    "log_info = f.read()\n",
    "f.close()"
   ]
  },
  {
   "cell_type": "code",
   "execution_count": 63,
   "metadata": {},
   "outputs": [],
   "source": [
    "df = pd.read_csv(StringIO(log_info), sep=\"\\s\", names=['data','time','person'], engine='python')\n",
    "df.data = pd.to_datetime(df.data, format='%Y/%m/%d')"
   ]
  },
  {
   "cell_type": "code",
   "execution_count": 83,
   "metadata": {},
   "outputs": [],
   "source": [
    "# df = pd.read_csv(\"feed-views.log\", sep='\\t', engine='python')\n",
    "skiprows_df = pd.read_csv(\"feed-views.log\", sep='\\t', skiprows=[2,3], engine='python')\n",
    "skipfooter_auto_df = pd.read_csv(\"feed-views.log\", skipfooter=2, engine='python')\n",
    "name_col_df = pd.read_csv(\"feed-views.log\",sep='\\t', names=[\"datetime\", \"user\"], engine='python')\n",
    "index_col_df = pd.read_csv(\"feed-views.log\",sep='\\t', names=[\"datetime\", \"user\"], index_col=1, engine='python')\n"
   ]
  },
  {
   "cell_type": "code",
   "execution_count": 85,
   "metadata": {},
   "outputs": [],
   "source": [
    "rename_col_df = name_col_df.rename(columns={'datetime': 'date_time'})\n",
    "name_col_df.to_csv(\"feed-views.csv\", sep=';')"
   ]
  },
  {
   "cell_type": "code",
   "execution_count": null,
   "metadata": {},
   "outputs": [],
   "source": []
  },
  {
   "cell_type": "code",
   "execution_count": null,
   "metadata": {},
   "outputs": [],
   "source": []
  }
 ],
 "metadata": {
  "kernelspec": {
   "display_name": "Python 2",
   "language": "python",
   "name": "python2"
  },
  "language_info": {
   "codemirror_mode": {
    "name": "ipython",
    "version": 2
   },
   "file_extension": ".py",
   "mimetype": "text/x-python",
   "name": "python",
   "nbconvert_exporter": "python",
   "pygments_lexer": "ipython2",
   "version": "2.7.17"
  }
 },
 "nbformat": 4,
 "nbformat_minor": 2
}
